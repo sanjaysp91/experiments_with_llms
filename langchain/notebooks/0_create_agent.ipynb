{
 "cells": [
  {
   "cell_type": "markdown",
   "id": "c61dc23f-fd2f-4fe5-a382-23cd88ff5fda",
   "metadata": {},
   "source": [
    "### Load environmental variables"
   ]
  },
  {
   "cell_type": "code",
   "execution_count": 6,
   "id": "adf38a96-ba5c-4937-9729-9ca8f4a252b5",
   "metadata": {},
   "outputs": [
    {
     "name": "stdout",
     "output_type": "stream",
     "text": [
      "The autoreload extension is already loaded. To reload it, use:\n",
      "  %reload_ext autoreload\n"
     ]
    }
   ],
   "source": [
    "import os\n",
    "from dotenv import load_dotenv\n",
    "\n",
    "# to load API keys, passwords or config variables without hardcoding them\n",
    "# dotenv reads key-value pairs from a .env file\n",
    "# any variables already set in the environment are replaced\n",
    "load_dotenv(os.path.join(\"..\", \".env\"), override=True)     \n",
    "\n",
    "# auto reload all modules before code execution using IPython/Jupyter magic commands\n",
    "# loads the autoreload extension \n",
    "%load_ext autoreload\n",
    "\n",
    "# automatically reloads all imported Python modules before each cell execution \n",
    "# why do this: if you change a module (like a local .py file), you don’t need to restart the kernel; your notebook sees the updates immediately\n",
    "%autoreload 2  \n",
    "\n",
    "# important note while using IPython/Jupyter magic commands: don’t put comments on the same line without separating; otherwise, Python thinks it’s part of the command and tries to import it as a module"
   ]
  },
  {
   "cell_type": "code",
   "execution_count": null,
   "id": "827f8cc8-8789-4b87-ad93-4ee11bffb370",
   "metadata": {},
   "outputs": [],
   "source": []
  }
 ],
 "metadata": {
  "kernelspec": {
   "display_name": "Python 3 (ipykernel)",
   "language": "python",
   "name": "python3"
  },
  "language_info": {
   "codemirror_mode": {
    "name": "ipython",
    "version": 3
   },
   "file_extension": ".py",
   "mimetype": "text/x-python",
   "name": "python",
   "nbconvert_exporter": "python",
   "pygments_lexer": "ipython3",
   "version": "3.13.3"
  }
 },
 "nbformat": 4,
 "nbformat_minor": 5
}
