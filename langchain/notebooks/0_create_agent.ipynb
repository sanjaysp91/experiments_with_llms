{
 "cells": [
  {
   "cell_type": "markdown",
   "id": "c61dc23f-fd2f-4fe5-a382-23cd88ff5fda",
   "metadata": {},
   "source": [
    "### Load environmental variables"
   ]
  },
  {
   "cell_type": "code",
   "execution_count": 6,
   "id": "adf38a96-ba5c-4937-9729-9ca8f4a252b5",
   "metadata": {},
   "outputs": [
    {
     "name": "stdout",
     "output_type": "stream",
     "text": [
      "The autoreload extension is already loaded. To reload it, use:\n",
      "  %reload_ext autoreload\n"
     ]
    }
   ],
   "source": [
    "import os\n",
    "from dotenv import load_dotenv\n",
    "\n",
    "# to load API keys, passwords or config variables without hardcoding them\n",
    "# dotenv reads key-value pairs from a .env file\n",
    "# any variables already set in the environment are replaced\n",
    "load_dotenv(os.path.join(\"..\", \".env\"), override=True)     \n",
    "\n",
    "# auto reload all modules before code execution using IPython/Jupyter magic commands\n",
    "# loads the autoreload extension \n",
    "%load_ext autoreload\n",
    "\n",
    "# automatically reloads all imported Python modules before each cell execution \n",
    "# why do this: if you change a module (like a local .py file), you don’t need to restart the kernel; your notebook sees the updates immediately\n",
    "%autoreload 2  \n",
    "\n",
    "# important note while using IPython/Jupyter magic commands: don’t put comments on the same line without separating; otherwise, Python thinks it’s part of the command and tries to import it as a module"
   ]
  },
  {
   "cell_type": "markdown",
   "id": "484815d3-43fa-4f87-a100-4a1578769c7a",
   "metadata": {},
   "source": [
    "# ReAct Agent \n",
    "#### What is ReAct Agent? \n",
    "* A **ReAct agent** is an AI agent that uses **Reasoning and Acting** (ReAct) framework to combine *chain-of-thought (CoT)* reasoning wiht external tool use.\n",
    "* It has **three components**: an LLM, a set of tools it can use and a prompt that provides instructions.\n",
    "* **Operation**:\n",
    "    * The LLM operates in a **loop**.\n",
    "    * In each **iteration**, it **examines** its context, which includes a list of available tools; It **decides** if it needs to call a tool.\n",
    "    * It **selects** a tool to invoke, **forms** the tool call. This is sent to a tool node for execution.\n",
    "    * The tool node executes the tool(s), and sends the results (observations) back to the LLM.\n",
    "    * The LLM **receives** the observations(s) and **uses** that observation to **inform** the next action.\n",
    "    * The **loop continue** until a **stopping condition** is met, typically when the agent decides it no longer needs to call more tools. \n",
    "\n",
    "#### Key capabilities of LangGraph pre-built agent (create_react_agent)\n",
    "* Memory integration: support for short-term (session-based) and long-term (persistent across sessions) memory, enabling stateful behaviors.\n",
    "* Humna-in-the-loop control: Execution can pause indefinitely to await human feedback. This enables approval, correction or intervention at any point in the workflow.\n",
    "* Streaming support: real-time streaming of agent state, model tokens, tool outputs.\n",
    "* Deployment tooling: includes infrastructure-free deployment tools. LangGraph platform supports testing, debugging and deployment.\n",
    "    * Studio: visual IDE for inspecting and debugging workflows.\n",
    "    * LangSmith: a tracing and evaluation tool.\n",
    "* create-react-agent is very sophisticated with lots of customizations:\n",
    "    * simple agent-tool loop\n",
    "    * with pre/post-hooks\n",
    "    * structured outputs\n",
    "\n",
    "<div style=\"display: flex; gap: 20px;\">\n",
    "\n",
    "<div style=\"flex: 1;\">\n",
    "##### Simple agent \n",
    "```mermaid\n",
    "---\n",
    "Simple agent \n",
    "---\n",
    "stateDiagram-v2\n",
    "    [*] --> agent\n",
    "    agent --> tools: tool_call\n",
    "    tools --> agent: observations\n",
    "    agent --> [*]: stopping_condition\n",
    "</div>\n",
    "```\n",
    "\n",
    "##### Complex agent \n",
    "```mermaid\n",
    "---\n",
    "Complex agent\n",
    "---\n",
    "stateDiagram-v2\n",
    "    [*] --> pre_model_hook\n",
    "    pre_model_hook --> agent: preparations_done\n",
    "    agent --> post_model_hook: model_run_over \n",
    "    post_model_hook --> pre_model_hook: followup_required\n",
    "    post_model_hook --> generate_structured_response: stopping_condition \n",
    "    post_model_hook --> tools: tool_call\n",
    "    tools --> pre_model_hook: observations\n",
    "    generate_structured_response --> [*]: response_ready\n",
    "    \n",
    "```"
   ]
  },
  {
   "cell_type": "markdown",
   "id": "5776b47b-b2a8-4a38-8d0f-784e354b0778",
   "metadata": {},
   "source": [
    "<div style=\"display: grid; grid-template-columns: 1fr 1fr; gap: 16px;\">\n",
    "\n",
    "<div>\n",
    "\n",
    "```mermaid\n",
    "stateDiagram-v2\n",
    "    [*] --> Preprocess\n",
    "    Preprocess --> Execute\n",
    "```\n",
    "</div>\n",
    "\n",
    "<div>\n",
    "\n",
    "```mermaid\n",
    "stateDiagram-v2\n",
    "    [*] --> Preprocess\n",
    "    Preprocess --> Execute\n",
    "```\n",
    "</div>\n",
    "\n",
    "\n",
    "\n"
   ]
  },
  {
   "cell_type": "code",
   "execution_count": null,
   "id": "2cbc5c5c-efe5-45ac-a75e-9fb99e63e3a8",
   "metadata": {},
   "outputs": [],
   "source": []
  }
 ],
 "metadata": {
  "kernelspec": {
   "display_name": "Python 3 (ipykernel)",
   "language": "python",
   "name": "python3"
  },
  "language_info": {
   "codemirror_mode": {
    "name": "ipython",
    "version": 3
   },
   "file_extension": ".py",
   "mimetype": "text/x-python",
   "name": "python",
   "nbconvert_exporter": "python",
   "pygments_lexer": "ipython3",
   "version": "3.13.3"
  }
 },
 "nbformat": 4,
 "nbformat_minor": 5
}
